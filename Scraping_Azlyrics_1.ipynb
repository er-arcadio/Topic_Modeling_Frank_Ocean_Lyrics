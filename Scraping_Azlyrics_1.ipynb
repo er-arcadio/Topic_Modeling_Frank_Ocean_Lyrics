{
 "cells": [
  {
   "cell_type": "markdown",
   "metadata": {},
   "source": [
    "# Webscraping & Vectorization"
   ]
  },
  {
   "cell_type": "code",
   "execution_count": 157,
   "metadata": {},
   "outputs": [],
   "source": [
    "import requests\n",
    "from bs4 import BeautifulSoup as bs\n",
    "import pandas as pd"
   ]
  },
  {
   "cell_type": "markdown",
   "metadata": {},
   "source": [
    "## Webscraping AZLyrics for Frank Ocean Songs"
   ]
  },
  {
   "cell_type": "code",
   "execution_count": 75,
   "metadata": {},
   "outputs": [],
   "source": [
    "''' \n",
    "Souping the discography page and storing track names, album and\n",
    "    link to lyric page.\n",
    "    \n",
    "'''\n",
    "\n",
    "# 3 ablums and their song count\n",
    "albums_dct = [\n",
    "    ('Nostalgia, Ultra', 11),\n",
    "    (\"The Lonny Breaux Collection\", 62),\n",
    "    ('Channel Orange', 17),\n",
    "    ( 'Endless', 17),\n",
    "    ('Blonde', 17),\n",
    "    ('other', 99)\n",
    "]\n",
    "\n",
    "# dictionary will hold info about songs\n",
    "songs_dct = {\n",
    "    'track': [],\n",
    "    'album': [],\n",
    "    'lyrics': []\n",
    "}\n",
    "\n",
    "# Beautiful souping the discography page\n",
    "discography_frank = 'https://www.azlyrics.com/f/frankocean.html'\n",
    "soup = bs( requests.get(discography_frank).text, 'html5lib' )\n",
    "\n",
    "all_divs = soup.find_all('div', attrs={'class':'listalbum-item'})\n",
    "all_divs = [link.find('a') for link in all_divs]"
   ]
  },
  {
   "cell_type": "code",
   "execution_count": 79,
   "metadata": {},
   "outputs": [],
   "source": [
    "def get_lyrics(track_link):\n",
    "    soup = bs( requests.get(track_link).text, 'html5lib' )\n",
    "    test = soup.find_all('div', attrs={'class': None, 'id': None})\n",
    "    lyrics = ' '\n",
    "    try:\n",
    "        lyrics = test[0].text\n",
    "    except IndexError:\n",
    "        pass\n",
    "    return lyrics"
   ]
  },
  {
   "cell_type": "code",
   "execution_count": 81,
   "metadata": {},
   "outputs": [
    {
     "name": "stdout",
     "output_type": "stream",
     "text": [
      "Done with album:  Nostalgia, Ultra\n",
      "Done with album:  The Lonny Breaux Collection\n",
      "Done with album:  Channel Orange\n",
      "Done with album:  Endless\n",
      "Done with album:  Blonde\n"
     ]
    }
   ],
   "source": [
    "# extracting the information from each song\n",
    "\n",
    "album_num = 0\n",
    "track_num = 1\n",
    "for div in all_divs:\n",
    "    # track name\n",
    "    songs_dct['track'].append(div.text)\n",
    "    \n",
    "    # album name\n",
    "    if track_num > albums_dct[album_num][1]:\n",
    "        track_num = 1\n",
    "        \n",
    "        print('Done with album: ', albums_dct[album_num][0])\n",
    "        album_num += 1\n",
    "      \n",
    "    songs_dct['album'].append(albums_dct[album_num][0])\n",
    "    track_num += 1\n",
    "    \n",
    "    #lyrics\n",
    "    track_link = 'https://www.azlyrics.com' + div.get('href').replace('..', '')\n",
    "    lyrics = get_lyrics(track_link)\n",
    "    songs_dct['lyrics'].append(lyrics)\n",
    "    \n",
    "print('All done')    "
   ]
  },
  {
   "cell_type": "code",
   "execution_count": 102,
   "metadata": {},
   "outputs": [],
   "source": [
    "# Only keep first 5 albums\n",
    "for category in songs_dct:\n",
    "    songs_dct[category] = songs_dct[category][:124]\n",
    "    \n",
    "len(songs_dct['lyrics'])"
   ]
  },
  {
   "cell_type": "markdown",
   "metadata": {},
   "source": [
    "## Cleaning the Text into a DF"
   ]
  },
  {
   "cell_type": "code",
   "execution_count": 153,
   "metadata": {
    "scrolled": true
   },
   "outputs": [],
   "source": [
    "import re\n",
    "def preprocess(document):\n",
    "    test = re.sub(\"\\(.*\\)\", \"\", document)\n",
    "    test = re.sub(\"\\[.*\\]\", \"\", test)\n",
    "    test = re.sub(\"[^\\w\\s]\", \"\", test)\n",
    "    test = test.replace('â', \"\").replace('\\n', ' ').lower()\n",
    "    return re.sub(\"[ ]+\", \" \", test)"
   ]
  },
  {
   "cell_type": "code",
   "execution_count": 161,
   "metadata": {
    "scrolled": true
   },
   "outputs": [
    {
     "data": {
      "text/plain": [
       "[' when we were kids we handpainted strawberries on a swing every moment was so precious then im still kicking it im daydreaming on a strawberry swing the entire earth is fighting all the world is at its end just in case an atom bomb comes falling on my lawn i should say and you should hear ive loved ive loved the good times here ive loved our good times here say hello then say farewell to the places you know we are all mortals arent we any moment this could go cry cry cry even though that wont change a thing but you should know you should hear that i have loved i have loved the good times here and i will miss our good times here spaceships are lifting off of a dying world and millions are left behind while the sky burns there wasnt room for you and i only you goodbye goodbye ',\n",
       " ' i think i started somethin i got what i wanted did didnt i cant feel nothin superhuman even when im fuckin viagra poppin every single record autotunin zero emotion muted emotion pitch corrected computed emotion i blame it on the model broad with the hollywood smile stripper booty and a rack like wow brain like berkeley met her at coachella i went to see jigga she went to see z trip perfect i took a seat on the ice cold lawn she handed me a ice blue bong whatever she said she wanna be a dentist really badly shes in school payin for tuition doin porn in the valley at least she workin but girl i cant feel my face what are we smokin anyway she said dont let the high go to waste but can you taste a little taste of novacane baby baby novacane baby i want you fuck me good fuck me long fuck me numb love me now when im gone love me none love me none love me none numb numb numb numb sink full of dishes pacin in the kitchen cocaine for breakfast yikes bed full of women flip on a tripod little red light on shootin im feelin like stanley kubrick this is some visionary shit been tryna film pleasure with my eyes wide shut but it keeps on movin i blame it on the model broad with the hollywood smile stripper booty with the rack like wow ill never forget ya you put me on a feelin i never had never had never had and ever since ive been tryna get it back pick it up and put it back now im somethin like the chemist on campus but theres no drug around quite like what i found in you i still cant feel my face what am i smokin anyway she said dont let the high go to waste but can you taste a little taste of novacane baby baby novacane baby i want you fuck me good fuck me long fuck me numb love me now when im gone love me none love me none love me none numb numb numb numb novacane novacane novacane novacane novacane numb the pain numb the pain numb the pain numb the pain numb the pain novacane novacane novacane novacane novacane for the pain for the pain novacane novacane novacane for the pain pretty girls involved with me makin pretty love to me pretty pity pity all the pretty girls involved with me makin pretty love to me pretty pity pity i cant feel a thing i cant feel cant feel a thing cant feel a thing cant feel feel feel feel her i cant feel feel her novacane novacane novacane i cant feel feel her novacane for the pain for the pain i cant cant feel her feel her feel her novacane novacane cane cane cane ',\n",
       " ' i believe jehovah jireh i believe theres heaven i believe in war i believe a womans temple gives her the right to choose but baby dont abort i believe that marriage isnt between a man woman but between love and love and i believe you when you say that youve lost all faith but you must believe in something something something you gotta believe in something something something i still believe in man a wise one asked me why cause i just dont believe were wicked i know that we sin but i do believe we try we all try the girls try the boys try women try men try you and i try try we all try i dont believe in time travel i dont believe our nations flag is on the moon i dont believe our lives are simple and i dont believe theyre short this is interlude i dont believe my hands are cleanly cant believe that you would let me touch your heart she didnt believe me when i said that i lost my faith you must believe in something something something you gotta believe in something something something i still believe in man a wise one asked me why cause i just dont believe were wicked i know that we sin but i do believe we try we all try the girls try the boys try women try men try you and i try try we all try try to believe i do believe i do believe ']"
      ]
     },
     "execution_count": 161,
     "metadata": {},
     "output_type": "execute_result"
    }
   ],
   "source": [
    "updated_songs = songs_dct.copy()\n",
    "updated_songs['lyrics'] = [preprocess(lyric) for lyric in updated_songs['lyrics']]\n",
    "    \n",
    "updated_songs['lyrics'][:3]"
   ]
  },
  {
   "cell_type": "code",
   "execution_count": 159,
   "metadata": {},
   "outputs": [
    {
     "data": {
      "text/html": [
       "<div>\n",
       "<style scoped>\n",
       "    .dataframe tbody tr th:only-of-type {\n",
       "        vertical-align: middle;\n",
       "    }\n",
       "\n",
       "    .dataframe tbody tr th {\n",
       "        vertical-align: top;\n",
       "    }\n",
       "\n",
       "    .dataframe thead th {\n",
       "        text-align: right;\n",
       "    }\n",
       "</style>\n",
       "<table border=\"1\" class=\"dataframe\">\n",
       "  <thead>\n",
       "    <tr style=\"text-align: right;\">\n",
       "      <th></th>\n",
       "      <th>track</th>\n",
       "      <th>album</th>\n",
       "      <th>lyrics</th>\n",
       "    </tr>\n",
       "  </thead>\n",
       "  <tbody>\n",
       "    <tr>\n",
       "      <th>0</th>\n",
       "      <td>Strawberry Swing</td>\n",
       "      <td>Nostalgia, Ultra</td>\n",
       "      <td>when we were kids we handpainted strawberries...</td>\n",
       "    </tr>\n",
       "    <tr>\n",
       "      <th>1</th>\n",
       "      <td>Novacane</td>\n",
       "      <td>Nostalgia, Ultra</td>\n",
       "      <td>i think i started somethin i got what i wante...</td>\n",
       "    </tr>\n",
       "    <tr>\n",
       "      <th>2</th>\n",
       "      <td>We All Try</td>\n",
       "      <td>Nostalgia, Ultra</td>\n",
       "      <td>i believe jehovah jireh i believe theres heav...</td>\n",
       "    </tr>\n",
       "    <tr>\n",
       "      <th>3</th>\n",
       "      <td>Bitches Talkin' (Metal Gear Solid)</td>\n",
       "      <td>Nostalgia, Ultra</td>\n",
       "      <td>stop let me go you dont got no jodeci all you...</td>\n",
       "    </tr>\n",
       "    <tr>\n",
       "      <th>4</th>\n",
       "      <td>Songs For Women</td>\n",
       "      <td>Nostalgia, Ultra</td>\n",
       "      <td>when i was younger i used to wonder like if i...</td>\n",
       "    </tr>\n",
       "    <tr>\n",
       "      <th>...</th>\n",
       "      <td>...</td>\n",
       "      <td>...</td>\n",
       "      <td>...</td>\n",
       "    </tr>\n",
       "    <tr>\n",
       "      <th>119</th>\n",
       "      <td>Close To You</td>\n",
       "      <td>Blonde</td>\n",
       "      <td>i will be honest i wasnt devastated but you c...</td>\n",
       "    </tr>\n",
       "    <tr>\n",
       "      <th>120</th>\n",
       "      <td>White Ferrari</td>\n",
       "      <td>Blonde</td>\n",
       "      <td>bad luck to talk on these rides mine on the r...</td>\n",
       "    </tr>\n",
       "    <tr>\n",
       "      <th>121</th>\n",
       "      <td>Seigfried</td>\n",
       "      <td>Blonde</td>\n",
       "      <td>the markings on your surface your speckled fa...</td>\n",
       "    </tr>\n",
       "    <tr>\n",
       "      <th>122</th>\n",
       "      <td>Godspeed</td>\n",
       "      <td>Blonde</td>\n",
       "      <td>i will always love you how i do let go of a p...</td>\n",
       "    </tr>\n",
       "    <tr>\n",
       "      <th>123</th>\n",
       "      <td>Futura Free</td>\n",
       "      <td>Blonde</td>\n",
       "      <td>if i was being honest id say long as i could ...</td>\n",
       "    </tr>\n",
       "  </tbody>\n",
       "</table>\n",
       "<p>124 rows × 3 columns</p>\n",
       "</div>"
      ],
      "text/plain": [
       "                                  track             album  \\\n",
       "0                      Strawberry Swing  Nostalgia, Ultra   \n",
       "1                              Novacane  Nostalgia, Ultra   \n",
       "2                            We All Try  Nostalgia, Ultra   \n",
       "3    Bitches Talkin' (Metal Gear Solid)  Nostalgia, Ultra   \n",
       "4                       Songs For Women  Nostalgia, Ultra   \n",
       "..                                  ...               ...   \n",
       "119                        Close To You            Blonde   \n",
       "120                       White Ferrari            Blonde   \n",
       "121                           Seigfried            Blonde   \n",
       "122                            Godspeed            Blonde   \n",
       "123                         Futura Free            Blonde   \n",
       "\n",
       "                                                lyrics  \n",
       "0     when we were kids we handpainted strawberries...  \n",
       "1     i think i started somethin i got what i wante...  \n",
       "2     i believe jehovah jireh i believe theres heav...  \n",
       "3     stop let me go you dont got no jodeci all you...  \n",
       "4     when i was younger i used to wonder like if i...  \n",
       "..                                                 ...  \n",
       "119   i will be honest i wasnt devastated but you c...  \n",
       "120   bad luck to talk on these rides mine on the r...  \n",
       "121   the markings on your surface your speckled fa...  \n",
       "122   i will always love you how i do let go of a p...  \n",
       "123   if i was being honest id say long as i could ...  \n",
       "\n",
       "[124 rows x 3 columns]"
      ]
     },
     "execution_count": 159,
     "metadata": {},
     "output_type": "execute_result"
    }
   ],
   "source": [
    "df = pd.DataFrame(updated_songs)\n",
    "df"
   ]
  },
  {
   "cell_type": "code",
   "execution_count": 225,
   "metadata": {},
   "outputs": [
    {
     "name": "stdout",
     "output_type": "stream",
     "text": [
      "Frank_Lyrics.csv               challenge_set_7_emmanuel.ipynb\r\n",
      "Instagram_Scrape_Fail.ipynb    challenge_set_8_emmanuel.ipynb\r\n",
      "\u001b[34mMetis_2020_Submissions\u001b[m\u001b[m         decade_hits.csv\r\n",
      "Pair_on_own.ipynb              \u001b[34mexercise\u001b[m\u001b[m\r\n",
      "Scraping_Azlyrics.ipynb        \u001b[34mgitHub_blog\u001b[m\u001b[m\r\n",
      "\u001b[34mStats_Prework\u001b[m\u001b[m                  model_selection.py\r\n",
      "\u001b[34mWebScrape\u001b[m\u001b[m                      top_100.pickle\r\n",
      "\u001b[34m__pycache__\u001b[m\u001b[m\r\n"
     ]
    }
   ],
   "source": [
    "df.to_csv('Frank_Lyrics.csv', index=False)\n",
    "\n",
    "!ls"
   ]
  },
  {
   "cell_type": "markdown",
   "metadata": {},
   "source": []
  }
 ],
 "metadata": {
  "kernelspec": {
   "display_name": "Python 3",
   "language": "python",
   "name": "python3"
  },
  "language_info": {
   "codemirror_mode": {
    "name": "ipython",
    "version": 3
   },
   "file_extension": ".py",
   "mimetype": "text/x-python",
   "name": "python",
   "nbconvert_exporter": "python",
   "pygments_lexer": "ipython3",
   "version": "3.7.6"
  }
 },
 "nbformat": 4,
 "nbformat_minor": 4
}
